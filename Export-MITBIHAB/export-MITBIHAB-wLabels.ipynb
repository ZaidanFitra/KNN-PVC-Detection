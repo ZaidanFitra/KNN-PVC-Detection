{
 "cells": [
  {
   "cell_type": "code",
   "execution_count": null,
   "id": "1acb71e8",
   "metadata": {},
   "outputs": [],
   "source": [
    "import wfdb\n",
    "import pandas as pd\n",
    "import numpy as np\n",
    "\n",
    "data_path = 'mit-bih-arrhythmia-database-1.0.0'\n",
    "\n",
    "record = wfdb.rdrecord(f'{data_path}/119')\n",
    "\n",
    "annotation = wfdb.rdann(f'{data_path}/119', 'atr')\n",
    "\n",
    "ecg_data = record.p_signal[:, 0]\n",
    "\n",
    "sample_indices = annotation.sample\n",
    "beat_labels = annotation.symbol\n",
    "\n",
    "labels = np.array([''] * len(ecg_data), dtype=object)\n",
    "for idx, label in zip(sample_indices, beat_labels):\n",
    "    if idx < len(ecg_data):\n",
    "        labels[idx] = label\n",
    "\n",
    "df = pd.DataFrame({\n",
    "    'ECG_Signal': ecg_data,\n",
    "    'Beat_Label': labels\n",
    "})\n",
    "\n",
    "df['Beat_Label'] = df['Beat_Label'].replace('', 'N/A')\n",
    "\n",
    "df.to_csv('mitbih_119_channel1_with_labels.csv', index=False)\n",
    "\n",
    "print(\"Data EKG dan label beat dari record 119 channel pertama telah diekspor ke 'mitbih_119_channel1_with_labels.csv'\")"
   ]
  }
 ],
 "metadata": {
  "language_info": {
   "name": "python"
  }
 },
 "nbformat": 4,
 "nbformat_minor": 5
}

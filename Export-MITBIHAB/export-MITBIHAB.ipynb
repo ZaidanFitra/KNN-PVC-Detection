{
 "cells": [
  {
   "cell_type": "markdown",
   "id": "15f651a9",
   "metadata": {},
   "source": [
    "Export to CSV"
   ]
  },
  {
   "cell_type": "code",
   "execution_count": null,
   "id": "db609a9f",
   "metadata": {},
   "outputs": [],
   "source": [
    "import wfdb\n",
    "import pandas as pd\n",
    "import numpy as np\n",
    "\n",
    "data_path = 'mit-bih-arrhythmia-database-1.0.0'\n",
    "\n",
    "record = wfdb.rdrecord(f'{data_path}/119')\n",
    "\n",
    "ecg_data = record.p_signal[:, 0]\n",
    "\n",
    "time_data = np.zeros(len(ecg_data))\n",
    "\n",
    "df = pd.DataFrame({\n",
    "    'Time': time_data,\n",
    "    'ECG': ecg_data\n",
    "})\n",
    "\n",
    "df.to_csv('mitbih_119_channel1.csv', index=False)\n",
    "\n",
    "print(\"Data EKG dari record 119 channel pertama telah diekspor ke 'mitbih_119_channel1.csv'\")"
   ]
  },
  {
   "cell_type": "markdown",
   "id": "bef0861c",
   "metadata": {},
   "source": [
    "Downsampling"
   ]
  },
  {
   "cell_type": "code",
   "execution_count": null,
   "id": "d4b99911",
   "metadata": {},
   "outputs": [],
   "source": [
    "import pandas as pd\n",
    "import numpy as np\n",
    "from scipy import signal\n",
    "\n",
    "# Path ke file CSV asli\n",
    "input_csv = 'mitbih_119_channel1.csv'\n",
    "output_csv = 'mitbih_119_channel1_downsampled.csv'\n",
    "\n",
    "# Sampling rate asli dan target\n",
    "original_rate = 360\n",
    "target_rate = 267\n",
    "\n",
    "df = pd.read_csv(input_csv)\n",
    "\n",
    "ecg_data = df['ECG'].values\n",
    "\n",
    "ratio = target_rate / original_rate\n",
    "new_length = int(len(ecg_data) * ratio)\n",
    "\n",
    "downsampled_ecg = signal.resample(ecg_data, new_length)\n",
    "\n",
    "time_data = np.zeros(new_length)\n",
    "\n",
    "df_downsampled = pd.DataFrame({\n",
    "    'Time': time_data,\n",
    "    'ECG': downsampled_ecg\n",
    "})\n",
    "\n",
    "df_downsampled.to_csv(output_csv, index=False)\n",
    "\n",
    "print(f\"Data EKG telah didownsampling dari {original_rate} Hz ke {target_rate} Hz dan diekspor ke '{output_csv}'\")"
   ]
  }
 ],
 "metadata": {
  "kernelspec": {
   "display_name": "Python 3",
   "language": "python",
   "name": "python3"
  },
  "language_info": {
   "codemirror_mode": {
    "name": "ipython",
    "version": 3
   },
   "file_extension": ".py",
   "mimetype": "text/x-python",
   "name": "python",
   "nbconvert_exporter": "python",
   "pygments_lexer": "ipython3",
   "version": "3.13.2"
  }
 },
 "nbformat": 4,
 "nbformat_minor": 5
}
